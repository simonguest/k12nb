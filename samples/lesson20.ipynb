{
 "cells": [
  {
   "cell_type": "markdown",
   "id": "c6d190a8",
   "metadata": {},
   "source": [
    "# Lesson 20: Two-Way and Nested Selection"
   ]
  },
  {
   "cell_type": "markdown",
   "id": "4c2d9172",
   "metadata": {},
   "source": [
    "## More Nested Loops\n",
    "<br>\n",
    "\n",
    "1. Read the code\n",
    "2. What do you think will happen if the user inputs 4?\n",
    "3. Why might you need to nest conditionals in an escape room game?\n",
    "\n",
    "<br>\n",
    "[Student Response Input]"
   ]
  },
  {
   "cell_type": "code",
   "execution_count": null,
   "id": "108175cc",
   "metadata": {},
   "outputs": [],
   "source": [
    "print(\"A sign reads: 'Solve this riddle to enter the city of Digitopolis.'\")\n",
    "number = int(input(\"What is half of two plus two? \"))\n",
    "\n",
    "if number == 3:\n",
    "    print(\"🔢 Correct! The gates of Digitopolis swing open.\")\n",
    "    if input(\"Do you wish to enter? (yes/no) \").lower() == \"yes\":\n",
    "        print(\"🏰 You step into a city of numbers and logic.\")\n",
    "    else:\n",
    "        print(\"🚪 You decide to stay outside and explore.\")\n",
    "else:\n",
    "    print(\"❌ Incorrect! Try again later.\")"
   ]
  }
 ],
 "metadata": {
  "kernelspec": {
   "display_name": ".venv",
   "language": "python",
   "name": "python3"
  },
  "language_info": {
   "codemirror_mode": {
    "name": "ipython",
    "version": 3
   },
   "file_extension": ".py",
   "mimetype": "text/x-python",
   "name": "python",
   "nbconvert_exporter": "python",
   "pygments_lexer": "ipython3",
   "version": "3.13.1"
  }
 },
 "nbformat": 4,
 "nbformat_minor": 5
}
