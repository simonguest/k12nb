{
 "cells": [
  {
   "cell_type": "markdown",
   "id": "c6d190a8",
   "metadata": {},
   "source": [
    "# Lesson 4: Variables and Data Flow"
   ]
  },
  {
   "cell_type": "markdown",
   "id": "4c2d9172",
   "metadata": {},
   "source": [
    "## Try This: Updating Variables\n",
    "<br>\n",
    "\n",
    "1. Update the values of `name` and `favorite_food` to reflect a new person.\n",
    "2. Discuss with your partner: What do you think will happen when you click \"Run\"?\n",
    "3. Run the program and observe the output."
   ]
  },
  {
   "cell_type": "code",
   "execution_count": null,
   "id": "108175cc",
   "metadata": {},
   "outputs": [],
   "source": [
    "name = \"Rylee\"\n",
    "favorite_food = \"Pizza\"\n",
    "\n",
    "print(\"Hi, my name is \" + name)\n",
    "print(\"My favorite food is \" + favorite_food)"
   ]
  },
  {
   "cell_type": "markdown",
   "id": "3f57bf9c",
   "metadata": {},
   "source": [
    "## Now Try This!\n",
    "\n",
    "<br>\n",
    "\n",
    "1. Discuss: What do you think will be printed out when you click \"Run\"?\n",
    "2. Click \"Run\" and observe the output.\n",
    "3. Modify the code by subtracting 1 from num_pets. Then click \"Run\" to print out the new value.\n",
    "\n",
    "<br>\n",
    "\n",
    "> Hint: How can you use arithmetic operations (+, -, x, ÷) to update the value of num_pets?\n",
    "\n",
    "<br>\n",
    "\n",
    "4. Add a print statement that says “Rylee is very happy about their [number of pets] pets!”.\n",
    "\n",
    "<br>\n",
    "\n",
    "> What happens when you try to combine a number with a string? Can you fix this error?"
   ]
  },
  {
   "cell_type": "code",
   "execution_count": null,
   "id": "9c61b3c3",
   "metadata": {},
   "outputs": [],
   "source": [
    "num_pets = 3\n",
    "\n",
    "#Rylee adopted 2 more pets\n",
    "num_pets = num_pets + 2\n",
    "print(\"Updated number of pets: \" + str(num_pets))"
   ]
  }
 ],
 "metadata": {
  "kernelspec": {
   "display_name": ".venv",
   "language": "python",
   "name": "python3"
  },
  "language_info": {
   "codemirror_mode": {
    "name": "ipython",
    "version": 3
   },
   "file_extension": ".py",
   "mimetype": "text/x-python",
   "name": "python",
   "nbconvert_exporter": "python",
   "pygments_lexer": "ipython3",
   "version": "3.13.1"
  }
 },
 "nbformat": 4,
 "nbformat_minor": 5
}
